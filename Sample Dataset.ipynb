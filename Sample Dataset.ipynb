{
 "cells": [
  {
   "cell_type": "code",
   "execution_count": 10,
   "metadata": {},
   "outputs": [],
   "source": [
    "import numpy as np\n",
    "import pandas as pd"
   ]
  },
  {
   "cell_type": "code",
   "execution_count": 11,
   "metadata": {},
   "outputs": [
    {
     "ename": "SyntaxError",
     "evalue": "positional argument follows keyword argument (<ipython-input-11-9cdcb1684ae7>, line 33)",
     "output_type": "error",
     "traceback": [
      "\u001b[0;36m  File \u001b[0;32m\"<ipython-input-11-9cdcb1684ae7>\"\u001b[0;36m, line \u001b[0;32m33\u001b[0m\n\u001b[0;31m    n_teachers_clipped = np.clip(n_teachers, a_min=self.min_teachers_per_school, a_max=None, n_teachers)\u001b[0m\n\u001b[0m                                                                                             ^\u001b[0m\n\u001b[0;31mSyntaxError\u001b[0m\u001b[0;31m:\u001b[0m positional argument follows keyword argument\n"
     ]
    }
   ],
   "source": [
    "class CreateSampleDataset():\n",
    "    def __init__(self, n_teachers=1000, school_teacher_ratio=1.2, teacher_per_school=15.,\n",
    "                 std_dev_teacher_per_school=3., min_teachers_per_school=5, p_rural=0.3, p_car=0.7, p_experienced=0.2):\n",
    "        self.n_teachers = n_teachers\n",
    "        self.n_schools = int(n_teachers * school_teacher_ratio / teacher_per_school)\n",
    "        self.teacher_per_school = teacher_per_school\n",
    "        self.std_dev_teacher_per_school = std_dev_teacher_per_school\n",
    "        self.min_teachers_per_school = min_teachers_per_school\n",
    "        self.p_rural = p_rural\n",
    "        self.p_car = p_car\n",
    "        self.p_experienced = p_experienced\n",
    "\n",
    "    def _createTeachers(self):\n",
    "        x_location = np.random.uniform(0., 1., self.n_teachers)\n",
    "        y_location = np.random.uniform(0., 1., self.n_teachers)\n",
    "        rural = np.random.choice([0, 1], p=[1 - self.p_rural, self.p_rural], size=self.n_teachers)\n",
    "        car = np.random.choice([0, 1], p=[1 - self.p_car, self.p_car], size=self.n_teachers)\n",
    "        experienced = np.random.choice([0, 1], p=[1 - self.p_experienced, self.p_experienced], size=self.n_teachers)\n",
    "        teachers = {'x_location': x_location,\n",
    "                    'y_location': y_location,\n",
    "                    'rural': rural,\n",
    "                    'car': car,\n",
    "                    'experienced': experienced,\n",
    "                    }\n",
    "\n",
    "        return teachers\n",
    "\n",
    "    def _createSchools(self):\n",
    "        x_location = np.random.uniform(0., 1., self.n_schools)\n",
    "        y_location = np.random.uniform(0., 1., self.n_schools)\n",
    "        rural = np.random.choice([0, 1], p=[1 - self.p_rural, self.p_rural], size=self.n_schools)\n",
    "        n_teachers = np.random.normal(loc=self.teacher_per_school, scale=self.std_dev_teacher_per_school, size=self.n_schools).astype(int)\n",
    "        n_teachers_clipped = np.clip(n_teachers, a_min=self.min_teachers_per_school, a_max=None, out=n_teachers)\n",
    "        schools = {'x_location': x_location,\n",
    "                   'y_location': y_location,\n",
    "                   'rural': rural,\n",
    "                   'n_teachers': n_teachers_clipped,\n",
    "                   }\n",
    "\n",
    "        return schools\n",
    "\n",
    "    def make_dataset(self):\n",
    "        teachers = pd.DataFrame(self._createTeachers())\n",
    "        schools = pd.DataFrame(self._createSchools())\n",
    "\n",
    "        return teachers, schools"
   ]
  },
  {
   "cell_type": "code",
   "execution_count": 12,
   "metadata": {},
   "outputs": [],
   "source": [
    "DatasetSampler = CreateSampleDataset()"
   ]
  },
  {
   "cell_type": "code",
   "execution_count": 13,
   "metadata": {},
   "outputs": [],
   "source": [
    "teachers, schools = DatasetSampler.make_dataset()"
   ]
  },
  {
   "cell_type": "code",
   "execution_count": 8,
   "metadata": {},
   "outputs": [
    {
     "data": {
      "text/html": [
       "<div>\n",
       "<style scoped>\n",
       "    .dataframe tbody tr th:only-of-type {\n",
       "        vertical-align: middle;\n",
       "    }\n",
       "\n",
       "    .dataframe tbody tr th {\n",
       "        vertical-align: top;\n",
       "    }\n",
       "\n",
       "    .dataframe thead th {\n",
       "        text-align: right;\n",
       "    }\n",
       "</style>\n",
       "<table border=\"1\" class=\"dataframe\">\n",
       "  <thead>\n",
       "    <tr style=\"text-align: right;\">\n",
       "      <th></th>\n",
       "      <th>x_location</th>\n",
       "      <th>y_location</th>\n",
       "      <th>rural</th>\n",
       "      <th>car</th>\n",
       "      <th>experienced</th>\n",
       "    </tr>\n",
       "  </thead>\n",
       "  <tbody>\n",
       "    <tr>\n",
       "      <th>0</th>\n",
       "      <td>0.694269</td>\n",
       "      <td>0.613895</td>\n",
       "      <td>0</td>\n",
       "      <td>0</td>\n",
       "      <td>0</td>\n",
       "    </tr>\n",
       "    <tr>\n",
       "      <th>1</th>\n",
       "      <td>0.756622</td>\n",
       "      <td>0.045317</td>\n",
       "      <td>0</td>\n",
       "      <td>0</td>\n",
       "      <td>0</td>\n",
       "    </tr>\n",
       "    <tr>\n",
       "      <th>2</th>\n",
       "      <td>0.751328</td>\n",
       "      <td>0.000510</td>\n",
       "      <td>0</td>\n",
       "      <td>0</td>\n",
       "      <td>0</td>\n",
       "    </tr>\n",
       "    <tr>\n",
       "      <th>3</th>\n",
       "      <td>0.076229</td>\n",
       "      <td>0.104822</td>\n",
       "      <td>1</td>\n",
       "      <td>1</td>\n",
       "      <td>0</td>\n",
       "    </tr>\n",
       "    <tr>\n",
       "      <th>4</th>\n",
       "      <td>0.446564</td>\n",
       "      <td>0.204482</td>\n",
       "      <td>0</td>\n",
       "      <td>0</td>\n",
       "      <td>0</td>\n",
       "    </tr>\n",
       "  </tbody>\n",
       "</table>\n",
       "</div>"
      ],
      "text/plain": [
       "   x_location  y_location  rural  car  experienced\n",
       "0    0.694269    0.613895      0    0            0\n",
       "1    0.756622    0.045317      0    0            0\n",
       "2    0.751328    0.000510      0    0            0\n",
       "3    0.076229    0.104822      1    1            0\n",
       "4    0.446564    0.204482      0    0            0"
      ]
     },
     "execution_count": 8,
     "metadata": {},
     "output_type": "execute_result"
    }
   ],
   "source": [
    "teachers.head()"
   ]
  },
  {
   "cell_type": "code",
   "execution_count": 9,
   "metadata": {},
   "outputs": [
    {
     "data": {
      "text/html": [
       "<div>\n",
       "<style scoped>\n",
       "    .dataframe tbody tr th:only-of-type {\n",
       "        vertical-align: middle;\n",
       "    }\n",
       "\n",
       "    .dataframe tbody tr th {\n",
       "        vertical-align: top;\n",
       "    }\n",
       "\n",
       "    .dataframe thead th {\n",
       "        text-align: right;\n",
       "    }\n",
       "</style>\n",
       "<table border=\"1\" class=\"dataframe\">\n",
       "  <thead>\n",
       "    <tr style=\"text-align: right;\">\n",
       "      <th></th>\n",
       "      <th>x_location</th>\n",
       "      <th>y_location</th>\n",
       "      <th>rural</th>\n",
       "      <th>n_teachers</th>\n",
       "    </tr>\n",
       "  </thead>\n",
       "  <tbody>\n",
       "    <tr>\n",
       "      <th>0</th>\n",
       "      <td>0.846666</td>\n",
       "      <td>0.244801</td>\n",
       "      <td>1</td>\n",
       "      <td>16</td>\n",
       "    </tr>\n",
       "    <tr>\n",
       "      <th>1</th>\n",
       "      <td>0.448977</td>\n",
       "      <td>0.131370</td>\n",
       "      <td>0</td>\n",
       "      <td>10</td>\n",
       "    </tr>\n",
       "    <tr>\n",
       "      <th>2</th>\n",
       "      <td>0.484343</td>\n",
       "      <td>0.205962</td>\n",
       "      <td>1</td>\n",
       "      <td>16</td>\n",
       "    </tr>\n",
       "    <tr>\n",
       "      <th>3</th>\n",
       "      <td>0.613760</td>\n",
       "      <td>0.085730</td>\n",
       "      <td>1</td>\n",
       "      <td>14</td>\n",
       "    </tr>\n",
       "    <tr>\n",
       "      <th>4</th>\n",
       "      <td>0.850929</td>\n",
       "      <td>0.455456</td>\n",
       "      <td>0</td>\n",
       "      <td>15</td>\n",
       "    </tr>\n",
       "  </tbody>\n",
       "</table>\n",
       "</div>"
      ],
      "text/plain": [
       "   x_location  y_location  rural  n_teachers\n",
       "0    0.846666    0.244801      1          16\n",
       "1    0.448977    0.131370      0          10\n",
       "2    0.484343    0.205962      1          16\n",
       "3    0.613760    0.085730      1          14\n",
       "4    0.850929    0.455456      0          15"
      ]
     },
     "execution_count": 9,
     "metadata": {},
     "output_type": "execute_result"
    }
   ],
   "source": [
    "schools.head()"
   ]
  },
  {
   "cell_type": "code",
   "execution_count": null,
   "metadata": {},
   "outputs": [],
   "source": []
  },
  {
   "cell_type": "code",
   "execution_count": null,
   "metadata": {},
   "outputs": [],
   "source": []
  }
 ],
 "metadata": {
  "kernelspec": {
   "display_name": "hackathon",
   "language": "python",
   "name": "hackathon"
  },
  "language_info": {
   "codemirror_mode": {
    "name": "ipython",
    "version": 3
   },
   "file_extension": ".py",
   "mimetype": "text/x-python",
   "name": "python",
   "nbconvert_exporter": "python",
   "pygments_lexer": "ipython3",
   "version": "3.8.12"
  }
 },
 "nbformat": 4,
 "nbformat_minor": 4
}
