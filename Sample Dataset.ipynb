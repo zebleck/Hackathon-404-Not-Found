{
 "cells": [
  {
   "cell_type": "code",
<<<<<<< HEAD
   "execution_count": 54,
=======
   "execution_count": 25,
>>>>>>> 0a25f7fc7c88ce0c5992e9c464cb6c1b423d8312
   "metadata": {},
   "outputs": [],
   "source": [
    "import numpy as np\n",
<<<<<<< HEAD
    "import pandas as pd\n",
    "import random"
=======
    "import pandas as pd"
>>>>>>> 0a25f7fc7c88ce0c5992e9c464cb6c1b423d8312
   ]
  },
  {
   "cell_type": "code",
<<<<<<< HEAD
   "execution_count": 55,
   "metadata": {},
   "outputs": [],
   "source": [
    "seed_value = 42\n",
    "random.seed(seed_value)\n",
    "np.random.seed(seed_value)"
   ]
  },
  {
   "cell_type": "code",
   "execution_count": 56,
=======
   "execution_count": 26,
>>>>>>> 0a25f7fc7c88ce0c5992e9c464cb6c1b423d8312
   "metadata": {},
   "outputs": [],
   "source": [
    "class CreateSampleDataset():\n",
<<<<<<< HEAD
    "    def __init__(self, n_teachers=1000, school_teacher_ratio=1.2, teacher_per_school=15.,\n",
    "                 std_dev_teacher_per_school=3., min_teacher_per_school=5, p_rural=0.3, p_car=0.7, p_experienced=0.2):\n",
    "        self.n_teachers = n_teachers\n",
    "        self.n_schools = int(n_teachers * school_teacher_ratio / teacher_per_school)\n",
    "        self.teacher_per_school = teacher_per_school\n",
    "        self.std_dev_teacher_per_school = std_dev_teacher_per_school\n",
    "        self.min_teacher_per_school = min_teacher_per_school\n",
=======
    "    def __init__(self, n_teachers=1000, school_teacher_ratio=1.2, teacher_per_school=15., p_rural=0.3, p_car=0.7, p_experienced=0.2):\n",
    "        self.n_teachers = n_teachers\n",
    "        self.n_schools = int(n_teachers * school_teacher_ratio / teacher_per_school)\n",
>>>>>>> 0a25f7fc7c88ce0c5992e9c464cb6c1b423d8312
    "        self.p_rural = p_rural\n",
    "        self.p_car = p_car\n",
    "        self.p_experienced = p_experienced\n",
    "\n",
    "    def _createTeachers(self):\n",
    "        x_location = np.random.uniform(0., 1., self.n_teachers)\n",
    "        y_location = np.random.uniform(0., 1., self.n_teachers)\n",
    "        rural = np.random.choice([0, 1], p=[1 - self.p_rural, self.p_rural], size=self.n_teachers)\n",
    "        car = np.random.choice([0, 1], p=[1 - self.p_car, self.p_car], size=self.n_teachers)\n",
    "        experienced = np.random.choice([0, 1], p=[1 - self.p_experienced, self.p_experienced], size=self.n_teachers)\n",
    "        teachers = {'x_location': x_location,\n",
    "                    'y_location': y_location,\n",
    "                    'rural': rural,\n",
    "                    'car': car,\n",
    "                    'experienced': experienced,\n",
    "                    }\n",
    "\n",
    "        return teachers\n",
    "\n",
    "    def _createSchools(self):\n",
    "        x_location = np.random.uniform(0., 1., self.n_schools)\n",
    "        y_location = np.random.uniform(0., 1., self.n_schools)\n",
    "        rural = np.random.choice([0, 1], p=[1 - self.p_rural, self.p_rural], size=self.n_schools)\n",
<<<<<<< HEAD
    "        teachers_needed = np.random.normal(loc=self.teacher_per_school, scale=self.std_dev_teacher_per_school, \n",
    "                                           size=self.n_schools).astype(int)\n",
    "        teachers_needed_clipped = np.clip(teachers_needed, a_min=self.min_teacher_per_school, a_max=None, \n",
    "                                          out=teachers_needed)\n",
    "        schools = {'x_location': x_location,\n",
    "                   'y_location': y_location,\n",
    "                   'rural': rural,\n",
    "                   'teachers_needed': teachers_needed_clipped,\n",
=======
    "        schools = {'x_location': x_location,\n",
    "                   'y_location': y_location,\n",
    "                   'rural': rural,\n",
>>>>>>> 0a25f7fc7c88ce0c5992e9c464cb6c1b423d8312
    "                   }\n",
    "\n",
    "        return schools\n",
    "\n",
    "    def make_dataset(self):\n",
    "        teachers = pd.DataFrame(self._createTeachers())\n",
    "        schools = pd.DataFrame(self._createSchools())\n",
    "\n",
    "        return teachers, schools"
   ]
  },
  {
   "cell_type": "code",
<<<<<<< HEAD
   "execution_count": 57,
=======
   "execution_count": 27,
>>>>>>> 0a25f7fc7c88ce0c5992e9c464cb6c1b423d8312
   "metadata": {},
   "outputs": [],
   "source": [
    "DatasetSampler = CreateSampleDataset()"
   ]
  },
  {
   "cell_type": "code",
<<<<<<< HEAD
   "execution_count": 58,
=======
   "execution_count": 28,
>>>>>>> 0a25f7fc7c88ce0c5992e9c464cb6c1b423d8312
   "metadata": {},
   "outputs": [],
   "source": [
    "teachers, schools = DatasetSampler.make_dataset()"
   ]
  },
  {
   "cell_type": "code",
<<<<<<< HEAD
   "execution_count": 59,
=======
   "execution_count": 29,
>>>>>>> 0a25f7fc7c88ce0c5992e9c464cb6c1b423d8312
   "metadata": {},
   "outputs": [
    {
     "data": {
      "text/html": [
       "<div>\n",
       "<style scoped>\n",
       "    .dataframe tbody tr th:only-of-type {\n",
       "        vertical-align: middle;\n",
       "    }\n",
       "\n",
       "    .dataframe tbody tr th {\n",
       "        vertical-align: top;\n",
       "    }\n",
       "\n",
       "    .dataframe thead th {\n",
       "        text-align: right;\n",
       "    }\n",
       "</style>\n",
       "<table border=\"1\" class=\"dataframe\">\n",
       "  <thead>\n",
       "    <tr style=\"text-align: right;\">\n",
       "      <th></th>\n",
       "      <th>x_location</th>\n",
       "      <th>y_location</th>\n",
       "      <th>rural</th>\n",
       "      <th>car</th>\n",
       "      <th>experienced</th>\n",
       "    </tr>\n",
       "  </thead>\n",
       "  <tbody>\n",
       "    <tr>\n",
       "      <th>0</th>\n",
<<<<<<< HEAD
       "      <td>0.374540</td>\n",
       "      <td>0.185133</td>\n",
       "      <td>0</td>\n",
       "      <td>1</td>\n",
=======
       "      <td>0.774449</td>\n",
       "      <td>0.704370</td>\n",
       "      <td>0</td>\n",
       "      <td>0</td>\n",
>>>>>>> 0a25f7fc7c88ce0c5992e9c464cb6c1b423d8312
       "      <td>0</td>\n",
       "    </tr>\n",
       "    <tr>\n",
       "      <th>1</th>\n",
<<<<<<< HEAD
       "      <td>0.950714</td>\n",
       "      <td>0.541901</td>\n",
=======
       "      <td>0.524804</td>\n",
       "      <td>0.464883</td>\n",
>>>>>>> 0a25f7fc7c88ce0c5992e9c464cb6c1b423d8312
       "      <td>0</td>\n",
       "      <td>1</td>\n",
       "      <td>1</td>\n",
       "    </tr>\n",
       "    <tr>\n",
       "      <th>2</th>\n",
<<<<<<< HEAD
       "      <td>0.731994</td>\n",
       "      <td>0.872946</td>\n",
       "      <td>1</td>\n",
       "      <td>0</td>\n",
=======
       "      <td>0.145980</td>\n",
       "      <td>0.847938</td>\n",
       "      <td>0</td>\n",
       "      <td>1</td>\n",
>>>>>>> 0a25f7fc7c88ce0c5992e9c464cb6c1b423d8312
       "      <td>0</td>\n",
       "    </tr>\n",
       "    <tr>\n",
       "      <th>3</th>\n",
<<<<<<< HEAD
       "      <td>0.598658</td>\n",
       "      <td>0.732225</td>\n",
       "      <td>0</td>\n",
       "      <td>1</td>\n",
=======
       "      <td>0.277602</td>\n",
       "      <td>0.033729</td>\n",
       "      <td>0</td>\n",
       "      <td>0</td>\n",
>>>>>>> 0a25f7fc7c88ce0c5992e9c464cb6c1b423d8312
       "      <td>0</td>\n",
       "    </tr>\n",
       "    <tr>\n",
       "      <th>4</th>\n",
<<<<<<< HEAD
       "      <td>0.156019</td>\n",
       "      <td>0.806561</td>\n",
       "      <td>0</td>\n",
       "      <td>1</td>\n",
       "      <td>0</td>\n",
=======
       "      <td>0.357989</td>\n",
       "      <td>0.889316</td>\n",
       "      <td>0</td>\n",
       "      <td>1</td>\n",
       "      <td>1</td>\n",
>>>>>>> 0a25f7fc7c88ce0c5992e9c464cb6c1b423d8312
       "    </tr>\n",
       "  </tbody>\n",
       "</table>\n",
       "</div>"
      ],
      "text/plain": [
       "   x_location  y_location  rural  car  experienced\n",
<<<<<<< HEAD
       "0    0.374540    0.185133      0    1            0\n",
       "1    0.950714    0.541901      0    1            1\n",
       "2    0.731994    0.872946      1    0            0\n",
       "3    0.598658    0.732225      0    1            0\n",
       "4    0.156019    0.806561      0    1            0"
      ]
     },
     "execution_count": 59,
=======
       "0    0.774449    0.704370      0    0            0\n",
       "1    0.524804    0.464883      0    1            1\n",
       "2    0.145980    0.847938      0    1            0\n",
       "3    0.277602    0.033729      0    0            0\n",
       "4    0.357989    0.889316      0    1            1"
      ]
     },
     "execution_count": 29,
>>>>>>> 0a25f7fc7c88ce0c5992e9c464cb6c1b423d8312
     "metadata": {},
     "output_type": "execute_result"
    }
   ],
   "source": [
    "teachers.head()"
   ]
  },
  {
   "cell_type": "code",
<<<<<<< HEAD
   "execution_count": 60,
=======
   "execution_count": 30,
>>>>>>> 0a25f7fc7c88ce0c5992e9c464cb6c1b423d8312
   "metadata": {},
   "outputs": [
    {
     "data": {
      "text/html": [
       "<div>\n",
       "<style scoped>\n",
       "    .dataframe tbody tr th:only-of-type {\n",
       "        vertical-align: middle;\n",
       "    }\n",
       "\n",
       "    .dataframe tbody tr th {\n",
       "        vertical-align: top;\n",
       "    }\n",
       "\n",
       "    .dataframe thead th {\n",
       "        text-align: right;\n",
       "    }\n",
       "</style>\n",
       "<table border=\"1\" class=\"dataframe\">\n",
       "  <thead>\n",
       "    <tr style=\"text-align: right;\">\n",
       "      <th></th>\n",
       "      <th>x_location</th>\n",
       "      <th>y_location</th>\n",
       "      <th>rural</th>\n",
<<<<<<< HEAD
       "      <th>teachers_needed</th>\n",
=======
>>>>>>> 0a25f7fc7c88ce0c5992e9c464cb6c1b423d8312
       "    </tr>\n",
       "  </thead>\n",
       "  <tbody>\n",
       "    <tr>\n",
       "      <th>0</th>\n",
<<<<<<< HEAD
       "      <td>0.393636</td>\n",
       "      <td>0.074896</td>\n",
       "      <td>0</td>\n",
       "      <td>14</td>\n",
       "    </tr>\n",
       "    <tr>\n",
       "      <th>1</th>\n",
       "      <td>0.473436</td>\n",
       "      <td>0.106160</td>\n",
       "      <td>0</td>\n",
       "      <td>16</td>\n",
       "    </tr>\n",
       "    <tr>\n",
       "      <th>2</th>\n",
       "      <td>0.854547</td>\n",
       "      <td>0.837473</td>\n",
       "      <td>0</td>\n",
       "      <td>17</td>\n",
       "    </tr>\n",
       "    <tr>\n",
       "      <th>3</th>\n",
       "      <td>0.340004</td>\n",
       "      <td>0.239820</td>\n",
       "      <td>0</td>\n",
       "      <td>15</td>\n",
       "    </tr>\n",
       "    <tr>\n",
       "      <th>4</th>\n",
       "      <td>0.869650</td>\n",
       "      <td>0.194958</td>\n",
       "      <td>0</td>\n",
       "      <td>16</td>\n",
=======
       "      <td>0.370330</td>\n",
       "      <td>0.336226</td>\n",
       "      <td>0</td>\n",
       "    </tr>\n",
       "    <tr>\n",
       "      <th>1</th>\n",
       "      <td>0.094853</td>\n",
       "      <td>0.328831</td>\n",
       "      <td>0</td>\n",
       "    </tr>\n",
       "    <tr>\n",
       "      <th>2</th>\n",
       "      <td>0.124946</td>\n",
       "      <td>0.405877</td>\n",
       "      <td>0</td>\n",
       "    </tr>\n",
       "    <tr>\n",
       "      <th>3</th>\n",
       "      <td>0.034606</td>\n",
       "      <td>0.587243</td>\n",
       "      <td>0</td>\n",
       "    </tr>\n",
       "    <tr>\n",
       "      <th>4</th>\n",
       "      <td>0.205876</td>\n",
       "      <td>0.428083</td>\n",
       "      <td>0</td>\n",
>>>>>>> 0a25f7fc7c88ce0c5992e9c464cb6c1b423d8312
       "    </tr>\n",
       "  </tbody>\n",
       "</table>\n",
       "</div>"
      ],
      "text/plain": [
<<<<<<< HEAD
       "   x_location  y_location  rural  teachers_needed\n",
       "0    0.393636    0.074896      0               14\n",
       "1    0.473436    0.106160      0               16\n",
       "2    0.854547    0.837473      0               17\n",
       "3    0.340004    0.239820      0               15\n",
       "4    0.869650    0.194958      0               16"
      ]
     },
     "execution_count": 60,
=======
       "   x_location  y_location  rural\n",
       "0    0.370330    0.336226      0\n",
       "1    0.094853    0.328831      0\n",
       "2    0.124946    0.405877      0\n",
       "3    0.034606    0.587243      0\n",
       "4    0.205876    0.428083      0"
      ]
     },
     "execution_count": 30,
>>>>>>> 0a25f7fc7c88ce0c5992e9c464cb6c1b423d8312
     "metadata": {},
     "output_type": "execute_result"
    }
   ],
   "source": [
    "schools.head()"
   ]
  },
  {
   "cell_type": "code",
   "execution_count": null,
   "metadata": {},
   "outputs": [],
   "source": []
  }
 ],
 "metadata": {
  "kernelspec": {
   "display_name": "hackathon",
   "language": "python",
   "name": "hackathon"
  },
  "language_info": {
   "codemirror_mode": {
    "name": "ipython",
    "version": 3
   },
   "file_extension": ".py",
   "mimetype": "text/x-python",
   "name": "python",
   "nbconvert_exporter": "python",
   "pygments_lexer": "ipython3",
   "version": "3.8.12"
  }
 },
 "nbformat": 4,
 "nbformat_minor": 4
}
