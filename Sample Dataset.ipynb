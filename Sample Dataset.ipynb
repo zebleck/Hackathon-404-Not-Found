{
 "cells": [
  {
   "cell_type": "code",
   "execution_count": 54,
   "metadata": {},
   "outputs": [],
   "source": [
    "import numpy as np\n",
    "import pandas as pd\n",
    "import random"
   ]
  },
  {
   "cell_type": "code",
   "execution_count": 55,
   "metadata": {},
   "outputs": [],
   "source": [
    "seed_value = 42\n",
    "random.seed(seed_value)\n",
    "np.random.seed(seed_value)"
   ]
  },
  {
   "cell_type": "code",
   "execution_count": 56,
   "metadata": {},
   "outputs": [],
   "source": [
    "class CreateSampleDataset():\n",
    "    def __init__(self, n_teachers=1000, school_teacher_ratio=1.2, teacher_per_school=15.,\n",
    "                 std_dev_teacher_per_school=3., min_teacher_per_school=5, p_rural=0.3, p_car=0.7, p_experienced=0.2):\n",
    "        self.n_teachers = n_teachers\n",
    "        self.n_schools = int(n_teachers * school_teacher_ratio / teacher_per_school)\n",
    "        self.teacher_per_school = teacher_per_school\n",
    "        self.std_dev_teacher_per_school = std_dev_teacher_per_school\n",
    "        self.min_teacher_per_school = min_teacher_per_school\n",
    "        self.p_rural = p_rural\n",
    "        self.p_car = p_car\n",
    "        self.p_experienced = p_experienced\n",
    "\n",
    "    def _createTeachers(self):\n",
    "        x_location = np.random.uniform(0., 1., self.n_teachers)\n",
    "        y_location = np.random.uniform(0., 1., self.n_teachers)\n",
    "        rural = np.random.choice([0, 1], p=[1 - self.p_rural, self.p_rural], size=self.n_teachers)\n",
    "        car = np.random.choice([0, 1], p=[1 - self.p_car, self.p_car], size=self.n_teachers)\n",
    "        experienced = np.random.choice([0, 1], p=[1 - self.p_experienced, self.p_experienced], size=self.n_teachers)\n",
    "        teachers = {'x_location': x_location,\n",
    "                    'y_location': y_location,\n",
    "                    'rural': rural,\n",
    "                    'car': car,\n",
    "                    'experienced': experienced,\n",
    "                    }\n",
    "\n",
    "        return teachers\n",
    "\n",
    "    def _createSchools(self):\n",
    "        x_location = np.random.uniform(0., 1., self.n_schools)\n",
    "        y_location = np.random.uniform(0., 1., self.n_schools)\n",
    "        rural = np.random.choice([0, 1], p=[1 - self.p_rural, self.p_rural], size=self.n_schools)\n",
    "        teachers_needed = np.random.normal(loc=self.teacher_per_school, scale=self.std_dev_teacher_per_school, \n",
    "                                           size=self.n_schools).astype(int)\n",
    "        teachers_needed_clipped = np.clip(teachers_needed, a_min=self.min_teacher_per_school, a_max=None, \n",
    "                                          out=teachers_needed)\n",
    "        schools = {'x_location': x_location,\n",
    "                   'y_location': y_location,\n",
    "                   'rural': rural,\n",
    "                   'teachers_needed': teachers_needed_clipped,\n",
    "                   }\n",
    "\n",
    "        return schools\n",
    "\n",
    "    def make_dataset(self):\n",
    "        teachers = pd.DataFrame(self._createTeachers())\n",
    "        schools = pd.DataFrame(self._createSchools())\n",
    "\n",
    "        return teachers, schools"
   ]
  },
  {
   "cell_type": "code",
   "execution_count": 57,
   "metadata": {},
   "outputs": [],
   "source": [
    "DatasetSampler = CreateSampleDataset()"
   ]
  },
  {
   "cell_type": "code",
   "execution_count": 58,
   "metadata": {},
   "outputs": [],
   "source": [
    "teachers, schools = DatasetSampler.make_dataset()"
   ]
  },
  {
   "cell_type": "code",
   "execution_count": 59,
   "metadata": {},
   "outputs": [
    {
     "data": {
      "text/html": [
       "<div>\n",
       "<style scoped>\n",
       "    .dataframe tbody tr th:only-of-type {\n",
       "        vertical-align: middle;\n",
       "    }\n",
       "\n",
       "    .dataframe tbody tr th {\n",
       "        vertical-align: top;\n",
       "    }\n",
       "\n",
       "    .dataframe thead th {\n",
       "        text-align: right;\n",
       "    }\n",
       "</style>\n",
       "<table border=\"1\" class=\"dataframe\">\n",
       "  <thead>\n",
       "    <tr style=\"text-align: right;\">\n",
       "      <th></th>\n",
       "      <th>x_location</th>\n",
       "      <th>y_location</th>\n",
       "      <th>rural</th>\n",
       "      <th>car</th>\n",
       "      <th>experienced</th>\n",
       "    </tr>\n",
       "  </thead>\n",
       "  <tbody>\n",
       "    <tr>\n",
       "      <th>0</th>\n",
       "      <td>0.374540</td>\n",
       "      <td>0.185133</td>\n",
       "      <td>0</td>\n",
       "      <td>1</td>\n",
       "      <td>0</td>\n",
       "    </tr>\n",
       "    <tr>\n",
       "      <th>1</th>\n",
       "      <td>0.950714</td>\n",
       "      <td>0.541901</td>\n",
       "      <td>0</td>\n",
       "      <td>1</td>\n",
       "      <td>1</td>\n",
       "    </tr>\n",
       "    <tr>\n",
       "      <th>2</th>\n",
       "      <td>0.731994</td>\n",
       "      <td>0.872946</td>\n",
       "      <td>1</td>\n",
       "      <td>0</td>\n",
       "      <td>0</td>\n",
       "    </tr>\n",
       "    <tr>\n",
       "      <th>3</th>\n",
       "      <td>0.598658</td>\n",
       "      <td>0.732225</td>\n",
       "      <td>0</td>\n",
       "      <td>1</td>\n",
       "      <td>0</td>\n",
       "    </tr>\n",
       "    <tr>\n",
       "      <th>4</th>\n",
       "      <td>0.156019</td>\n",
       "      <td>0.806561</td>\n",
       "      <td>0</td>\n",
       "      <td>1</td>\n",
       "      <td>0</td>\n",
       "    </tr>\n",
       "  </tbody>\n",
       "</table>\n",
       "</div>"
      ],
      "text/plain": [
       "   x_location  y_location  rural  car  experienced\n",
       "0    0.374540    0.185133      0    1            0\n",
       "1    0.950714    0.541901      0    1            1\n",
       "2    0.731994    0.872946      1    0            0\n",
       "3    0.598658    0.732225      0    1            0\n",
       "4    0.156019    0.806561      0    1            0"
      ]
     },
     "execution_count": 59,
     "metadata": {},
     "output_type": "execute_result"
    }
   ],
   "source": [
    "teachers.head()"
   ]
  },
  {
   "cell_type": "code",
   "execution_count": 60,
   "metadata": {},
   "outputs": [
    {
     "data": {
      "text/html": [
       "<div>\n",
       "<style scoped>\n",
       "    .dataframe tbody tr th:only-of-type {\n",
       "        vertical-align: middle;\n",
       "    }\n",
       "\n",
       "    .dataframe tbody tr th {\n",
       "        vertical-align: top;\n",
       "    }\n",
       "\n",
       "    .dataframe thead th {\n",
       "        text-align: right;\n",
       "    }\n",
       "</style>\n",
       "<table border=\"1\" class=\"dataframe\">\n",
       "  <thead>\n",
       "    <tr style=\"text-align: right;\">\n",
       "      <th></th>\n",
       "      <th>x_location</th>\n",
       "      <th>y_location</th>\n",
       "      <th>rural</th>\n",
       "      <th>teachers_needed</th>\n",
       "    </tr>\n",
       "  </thead>\n",
       "  <tbody>\n",
       "    <tr>\n",
       "      <th>0</th>\n",
       "      <td>0.393636</td>\n",
       "      <td>0.074896</td>\n",
       "      <td>0</td>\n",
       "      <td>14</td>\n",
       "    </tr>\n",
       "    <tr>\n",
       "      <th>1</th>\n",
       "      <td>0.473436</td>\n",
       "      <td>0.106160</td>\n",
       "      <td>0</td>\n",
       "      <td>16</td>\n",
       "    </tr>\n",
       "    <tr>\n",
       "      <th>2</th>\n",
       "      <td>0.854547</td>\n",
       "      <td>0.837473</td>\n",
       "      <td>0</td>\n",
       "      <td>17</td>\n",
       "    </tr>\n",
       "    <tr>\n",
       "      <th>3</th>\n",
       "      <td>0.340004</td>\n",
       "      <td>0.239820</td>\n",
       "      <td>0</td>\n",
       "      <td>15</td>\n",
       "    </tr>\n",
       "    <tr>\n",
       "      <th>4</th>\n",
       "      <td>0.869650</td>\n",
       "      <td>0.194958</td>\n",
       "      <td>0</td>\n",
       "      <td>16</td>\n",
       "    </tr>\n",
       "  </tbody>\n",
       "</table>\n",
       "</div>"
      ],
      "text/plain": [
       "   x_location  y_location  rural  teachers_needed\n",
       "0    0.393636    0.074896      0               14\n",
       "1    0.473436    0.106160      0               16\n",
       "2    0.854547    0.837473      0               17\n",
       "3    0.340004    0.239820      0               15\n",
       "4    0.869650    0.194958      0               16"
      ]
     },
     "execution_count": 60,
     "metadata": {},
     "output_type": "execute_result"
    }
   ],
   "source": [
    "schools.head()"
   ]
  },
  {
   "cell_type": "code",
   "execution_count": null,
   "metadata": {},
   "outputs": [],
   "source": []
  }
 ],
 "metadata": {
  "kernelspec": {
   "display_name": "hackathon",
   "language": "python",
   "name": "hackathon"
  },
  "language_info": {
   "codemirror_mode": {
    "name": "ipython",
    "version": 3
   },
   "file_extension": ".py",
   "mimetype": "text/x-python",
   "name": "python",
   "nbconvert_exporter": "python",
   "pygments_lexer": "ipython3",
   "version": "3.8.12"
  }
 },
 "nbformat": 4,
 "nbformat_minor": 4
}
