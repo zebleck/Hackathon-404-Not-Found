{
 "cells": [
  {
   "cell_type": "code",
   "execution_count": 25,
   "metadata": {},
   "outputs": [],
   "source": [
    "import numpy as np\n",
    "import pandas as pd"
   ]
  },
  {
   "cell_type": "code",
   "execution_count": 26,
   "metadata": {},
   "outputs": [],
   "source": [
    "class CreateSampleDataset():\n",
    "    def __init__(self, n_teachers=1000, school_teacher_ratio=1.2, teacher_per_school=15., p_rural=0.3, p_car=0.7, p_experienced=0.2):\n",
    "        self.n_teachers = n_teachers\n",
    "        self.n_schools = int(n_teachers * school_teacher_ratio / teacher_per_school)\n",
    "        self.p_rural = p_rural\n",
    "        self.p_car = p_car\n",
    "        self.p_experienced = p_experienced\n",
    "\n",
    "    def _createTeachers(self):\n",
    "        x_location = np.random.uniform(0., 1., self.n_teachers)\n",
    "        y_location = np.random.uniform(0., 1., self.n_teachers)\n",
    "        rural = np.random.choice([0, 1], p=[1 - self.p_rural, self.p_rural], size=self.n_teachers)\n",
    "        car = np.random.choice([0, 1], p=[1 - self.p_car, self.p_car], size=self.n_teachers)\n",
    "        experienced = np.random.choice([0, 1], p=[1 - self.p_experienced, self.p_experienced], size=self.n_teachers)\n",
    "        teachers = {'x_location': x_location,\n",
    "                    'y_location': y_location,\n",
    "                    'rural': rural,\n",
    "                    'car': car,\n",
    "                    'experienced': experienced,\n",
    "                    }\n",
    "\n",
    "        return teachers\n",
    "\n",
    "    def _createSchools(self):\n",
    "        x_location = np.random.uniform(0., 1., self.n_schools)\n",
    "        y_location = np.random.uniform(0., 1., self.n_schools)\n",
    "        rural = np.random.choice([0, 1], p=[1 - self.p_rural, self.p_rural], size=self.n_schools)\n",
    "        schools = {'x_location': x_location,\n",
    "                   'y_location': y_location,\n",
    "                   'rural': rural,\n",
    "                   }\n",
    "\n",
    "        return schools\n",
    "\n",
    "    def make_dataset(self):\n",
    "        teachers = pd.DataFrame(self._createTeachers())\n",
    "        schools = pd.DataFrame(self._createSchools())\n",
    "\n",
    "        return teachers, schools"
   ]
  },
  {
   "cell_type": "code",
   "execution_count": 27,
   "metadata": {},
   "outputs": [],
   "source": [
    "DatasetSampler = CreateSampleDataset()"
   ]
  },
  {
   "cell_type": "code",
   "execution_count": 28,
   "metadata": {},
   "outputs": [],
   "source": [
    "teachers, schools = DatasetSampler.make_dataset()"
   ]
  },
  {
   "cell_type": "code",
   "execution_count": 29,
   "metadata": {},
   "outputs": [
    {
     "data": {
      "text/html": [
       "<div>\n",
       "<style scoped>\n",
       "    .dataframe tbody tr th:only-of-type {\n",
       "        vertical-align: middle;\n",
       "    }\n",
       "\n",
       "    .dataframe tbody tr th {\n",
       "        vertical-align: top;\n",
       "    }\n",
       "\n",
       "    .dataframe thead th {\n",
       "        text-align: right;\n",
       "    }\n",
       "</style>\n",
       "<table border=\"1\" class=\"dataframe\">\n",
       "  <thead>\n",
       "    <tr style=\"text-align: right;\">\n",
       "      <th></th>\n",
       "      <th>x_location</th>\n",
       "      <th>y_location</th>\n",
       "      <th>rural</th>\n",
       "      <th>car</th>\n",
       "      <th>experienced</th>\n",
       "    </tr>\n",
       "  </thead>\n",
       "  <tbody>\n",
       "    <tr>\n",
       "      <th>0</th>\n",
       "      <td>0.774449</td>\n",
       "      <td>0.704370</td>\n",
       "      <td>0</td>\n",
       "      <td>0</td>\n",
       "      <td>0</td>\n",
       "    </tr>\n",
       "    <tr>\n",
       "      <th>1</th>\n",
       "      <td>0.524804</td>\n",
       "      <td>0.464883</td>\n",
       "      <td>0</td>\n",
       "      <td>1</td>\n",
       "      <td>1</td>\n",
       "    </tr>\n",
       "    <tr>\n",
       "      <th>2</th>\n",
       "      <td>0.145980</td>\n",
       "      <td>0.847938</td>\n",
       "      <td>0</td>\n",
       "      <td>1</td>\n",
       "      <td>0</td>\n",
       "    </tr>\n",
       "    <tr>\n",
       "      <th>3</th>\n",
       "      <td>0.277602</td>\n",
       "      <td>0.033729</td>\n",
       "      <td>0</td>\n",
       "      <td>0</td>\n",
       "      <td>0</td>\n",
       "    </tr>\n",
       "    <tr>\n",
       "      <th>4</th>\n",
       "      <td>0.357989</td>\n",
       "      <td>0.889316</td>\n",
       "      <td>0</td>\n",
       "      <td>1</td>\n",
       "      <td>1</td>\n",
       "    </tr>\n",
       "  </tbody>\n",
       "</table>\n",
       "</div>"
      ],
      "text/plain": [
       "   x_location  y_location  rural  car  experienced\n",
       "0    0.774449    0.704370      0    0            0\n",
       "1    0.524804    0.464883      0    1            1\n",
       "2    0.145980    0.847938      0    1            0\n",
       "3    0.277602    0.033729      0    0            0\n",
       "4    0.357989    0.889316      0    1            1"
      ]
     },
     "execution_count": 29,
     "metadata": {},
     "output_type": "execute_result"
    }
   ],
   "source": [
    "teachers.head()"
   ]
  },
  {
   "cell_type": "code",
   "execution_count": 30,
   "metadata": {},
   "outputs": [
    {
     "data": {
      "text/html": [
       "<div>\n",
       "<style scoped>\n",
       "    .dataframe tbody tr th:only-of-type {\n",
       "        vertical-align: middle;\n",
       "    }\n",
       "\n",
       "    .dataframe tbody tr th {\n",
       "        vertical-align: top;\n",
       "    }\n",
       "\n",
       "    .dataframe thead th {\n",
       "        text-align: right;\n",
       "    }\n",
       "</style>\n",
       "<table border=\"1\" class=\"dataframe\">\n",
       "  <thead>\n",
       "    <tr style=\"text-align: right;\">\n",
       "      <th></th>\n",
       "      <th>x_location</th>\n",
       "      <th>y_location</th>\n",
       "      <th>rural</th>\n",
       "    </tr>\n",
       "  </thead>\n",
       "  <tbody>\n",
       "    <tr>\n",
       "      <th>0</th>\n",
       "      <td>0.370330</td>\n",
       "      <td>0.336226</td>\n",
       "      <td>0</td>\n",
       "    </tr>\n",
       "    <tr>\n",
       "      <th>1</th>\n",
       "      <td>0.094853</td>\n",
       "      <td>0.328831</td>\n",
       "      <td>0</td>\n",
       "    </tr>\n",
       "    <tr>\n",
       "      <th>2</th>\n",
       "      <td>0.124946</td>\n",
       "      <td>0.405877</td>\n",
       "      <td>0</td>\n",
       "    </tr>\n",
       "    <tr>\n",
       "      <th>3</th>\n",
       "      <td>0.034606</td>\n",
       "      <td>0.587243</td>\n",
       "      <td>0</td>\n",
       "    </tr>\n",
       "    <tr>\n",
       "      <th>4</th>\n",
       "      <td>0.205876</td>\n",
       "      <td>0.428083</td>\n",
       "      <td>0</td>\n",
       "    </tr>\n",
       "  </tbody>\n",
       "</table>\n",
       "</div>"
      ],
      "text/plain": [
       "   x_location  y_location  rural\n",
       "0    0.370330    0.336226      0\n",
       "1    0.094853    0.328831      0\n",
       "2    0.124946    0.405877      0\n",
       "3    0.034606    0.587243      0\n",
       "4    0.205876    0.428083      0"
      ]
     },
     "execution_count": 30,
     "metadata": {},
     "output_type": "execute_result"
    }
   ],
   "source": [
    "schools.head()"
   ]
  },
  {
   "cell_type": "code",
   "execution_count": null,
   "metadata": {},
   "outputs": [],
   "source": []
  }
 ],
 "metadata": {
  "kernelspec": {
   "display_name": "hackathon",
   "language": "python",
   "name": "hackathon"
  },
  "language_info": {
   "codemirror_mode": {
    "name": "ipython",
    "version": 3
   },
   "file_extension": ".py",
   "mimetype": "text/x-python",
   "name": "python",
   "nbconvert_exporter": "python",
   "pygments_lexer": "ipython3",
   "version": "3.8.12"
  }
 },
 "nbformat": 4,
 "nbformat_minor": 4
}
